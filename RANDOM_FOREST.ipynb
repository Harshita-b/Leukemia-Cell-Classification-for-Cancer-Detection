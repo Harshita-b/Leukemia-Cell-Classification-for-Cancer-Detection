{
 "cells": [
  {
   "cell_type": "code",
   "execution_count": null,
   "id": "SxeoL1aqyioc",
   "metadata": {
    "id": "SxeoL1aqyioc"
   },
   "outputs": [],
   "source": [
    "import os\n",
    "import pandas as pd\n",
    "import numpy as np\n",
    "import matplotlib.pyplot as plt\n",
    "import cv2 as cv\n",
    "from sklearn.model_selection import cross_val_score,cross_val_predict\n",
    "from sklearn.ensemble import RandomForestClassifier\n",
    "from sklearn.naive_bayes import GaussianNB\n",
    "from sklearn.neighbors import KNeighborsClassifier\n",
    "from sklearn import svm\n",
    "from sklearn.metrics import confusion_matrix\n",
    "from sklearn.metrics import f1_score,precision_score,recall_score,accuracy_score\n",
    "from sklearn.model_selection import GridSearchCV\n",
    "from sklearn.model_selection import train_test_split\n",
    "from sklearn.ensemble import RandomForestClassifier"
   ]
  },
  {
   "cell_type": "markdown",
   "id": "5ba8b42f",
   "metadata": {},
   "source": [
    "## Implementing Random Forest Algorithm"
   ]
  },
  {
   "cell_type": "code",
   "execution_count": null,
   "id": "17d7e314",
   "metadata": {
    "id": "17d7e314"
   },
   "outputs": [],
   "source": [
    "if USE_LESS_DATA:\n",
    "    df_train = df_train[:5000]\n",
    "    df_val = df_val[:1000]"
   ]
  },
  {
   "cell_type": "code",
   "execution_count": null,
   "id": "2d744cc9",
   "metadata": {
    "id": "2d744cc9"
   },
   "outputs": [],
   "source": [
    "X_train = df_train['image_paths'].apply(read_and_crop_image).values\n",
    "X_val = df_val['image_paths'].apply(read_and_crop_image).values\n",
    "\n",
    "y_train = df_train['image_labels'].values\n",
    "y_val = df_val['image_labels'].values\n",
    "\n",
    "# https://stackoverflow.com/a/69873624\n",
    "X_train = np.stack(X_train, axis=0)\n",
    "X_val = np.stack(X_val, axis=0)\n",
    "\n",
    "# Expand dim to add channel info if image has 1 channel(Colorless)\n",
    "if not KEEP_COLOR:\n",
    "    X_train = np.expand_dims(X_train, axis=-1)\n",
    "    X_val = np.expand_dims(X_val, axis=-1)\n",
    "\n",
    "# Delete non used variables\n",
    "#del(df_train)\n",
    "#del(df_val)"
   ]
  },
  {
   "cell_type": "code",
   "execution_count": null,
   "id": "3fb9c658",
   "metadata": {
    "id": "3fb9c658"
   },
   "outputs": [],
   "source": [
    "\n",
    "\n",
    "X_train, X_test, y_train, y_test = train_test_split(X_train, y_train, test_size=0.1, random_state=MAIN_SEED)"
   ]
  },
  {
   "cell_type": "code",
   "execution_count": null,
   "id": "3e30a2f5",
   "metadata": {
    "id": "3e30a2f5",
    "outputId": "04c41477-7c4f-4eef-8744-9dbcf526b1c7"
   },
   "outputs": [
    {
     "name": "stdout",
     "output_type": "stream",
     "text": [
      "X_train -> (4500, 200, 200, 1) \n",
      "y_train -> (4500,) \n",
      "\n",
      "X_test -> (500, 200, 200, 1) \n",
      "y_test -> (500,) \n",
      "\n",
      "X_val -> (1000, 200, 200, 1) \n",
      "y_val -> (1000,)\n"
     ]
    }
   ],
   "source": [
    "print(\"X_train ->\",X_train.shape,\n",
    "      \"\\ny_train ->\",y_train.shape,\n",
    "      \"\\n\\nX_test ->\",X_test.shape,\n",
    "      \"\\ny_test ->\",y_test.shape,\n",
    "      \"\\n\\nX_val ->\",X_val.shape,\n",
    "      \"\\ny_val ->\",y_val.shape\n",
    ")"
   ]
  },
  {
   "cell_type": "code",
   "execution_count": null,
   "id": "322e966a",
   "metadata": {
    "id": "322e966a"
   },
   "outputs": [],
   "source": [
    "import seaborn as sns"
   ]
  },
  {
   "cell_type": "code",
   "execution_count": null,
   "id": "ff00c0b4",
   "metadata": {
    "id": "ff00c0b4",
    "outputId": "ad9f7f8c-4b38-4e6d-87b8-449bbd61e311"
   },
   "outputs": [
    {
     "data": {
      "text/plain": [
       "GridSearchCV(cv=5, estimator=RandomForestClassifier(),\n",
       "             param_grid={'max_depth': [4, 5, 6, 7, 8],\n",
       "                         'n_estimators': [200, 500]})"
      ]
     },
     "execution_count": 22,
     "metadata": {},
     "output_type": "execute_result"
    }
   ],
   "source": [
    "from sklearn.ensemble import RandomForestClassifier\n",
    "from sklearn.model_selection import GridSearchCV\n",
    "import numpy as np\n",
    "\n",
    "# Reshape the input data to two dimensions\n",
    "X_train_2d = np.reshape(X_train, (X_train.shape[0], -1))\n",
    "\n",
    "# Define the parameter grid for the Random Forest classifier\n",
    "param_grid_rf = {\n",
    "    'n_estimators': [200, 500],\n",
    "    'max_depth': [4, 5, 6, 7, 8]\n",
    "}\n",
    "\n",
    "# Create an instance of GridSearchCV\n",
    "RF_grid = GridSearchCV(estimator=RandomForestClassifier(), param_grid=param_grid_rf, cv=5)\n",
    "\n",
    "# Fit the grid search on the training data\n",
    "RF_grid.fit(X_train_2d, y_train)\n"
   ]
  },
  {
   "cell_type": "code",
   "execution_count": null,
   "id": "881dd23c",
   "metadata": {
    "id": "881dd23c",
    "outputId": "772f1097-3bf4-4201-be3e-065e4fe073de"
   },
   "outputs": [
    {
     "name": "stdout",
     "output_type": "stream",
     "text": [
      "{'max_depth': 8, 'n_estimators': 500}\n"
     ]
    }
   ],
   "source": [
    "print(RF_grid.best_params_)"
   ]
  },
  {
   "cell_type": "code",
   "execution_count": null,
   "id": "0c935d12",
   "metadata": {
    "id": "0c935d12",
    "outputId": "f2fcd0c5-9118-421e-d848-2ff58c49cb53"
   },
   "outputs": [
    {
     "name": "stdout",
     "output_type": "stream",
     "text": [
      "Accuracy: 0.700\n"
     ]
    }
   ],
   "source": [
    "\n",
    "\n",
    "# Reshape the input data to two dimensions\n",
    "X_train_2d = np.reshape(X_train, (X_train.shape[0], -1))\n",
    "X_test_2d = np.reshape(X_test, (X_test.shape[0], -1))\n",
    "\n",
    "# Create an instance of the Random Forest classifier with specified hyperparameters\n",
    "r_forest = RandomForestClassifier(n_estimators=500, max_depth=8, random_state=5)\n",
    "\n",
    "# Fit the Random Forest model on the training data\n",
    "r_forest.fit(X_train_2d, y_train)\n",
    "\n",
    "# Make predictions on the test data\n",
    "predicted = r_forest.predict(X_test_2d)\n",
    "\n",
    "# Calculate the accuracy score\n",
    "score = r_forest.score(X_test_2d, y_test)\n",
    "rf_score_ = np.mean(score)\n",
    "\n",
    "# Print the accuracy score\n",
    "print('Accuracy: %.3f' % rf_score_)\n"
   ]
  },
  {
   "cell_type": "code",
   "execution_count": null,
   "id": "7f7ff710",
   "metadata": {
    "id": "7f7ff710",
    "outputId": "788ccc00-db56-417e-be0f-088bb0cbc4ea"
   },
   "outputs": [
    {
     "name": "stdout",
     "output_type": "stream",
     "text": [
      "precision : 0.704\n",
      "recall : 0.952\n",
      "f1-score: 0.809\n",
      "weighted f1-score: 0.640\n"
     ]
    }
   ],
   "source": [
    "p=precision_score(y_test, predicted)\n",
    "print('precision : %.3f' % (p))\n",
    "\n",
    "r=recall_score(y_test, predicted)\n",
    "print('recall : %.3f' % (r))\n",
    "\n",
    "f1=f1_score(y_test, predicted)\n",
    "print('f1-score: %.3f' % (f1))\n",
    "\n",
    "f1_w=f1_score(y_test, predicted, average='weighted')\n",
    "print('weighted f1-score: %.3f' % (f1_w))\n"
   ]
  },
  {
   "cell_type": "code",
   "execution_count": null,
   "id": "56c64216",
   "metadata": {
    "id": "56c64216",
    "outputId": "2139777c-326a-4755-aee0-6629765f84cf"
   },
   "outputs": [
    {
     "data": {
      "image/png": "[encoded data removed]",
      "text/plain": [
       "<Figure size 432x288 with 2 Axes>"
      ]
     },
     "metadata": {
      "needs_background": "light"
     },
     "output_type": "display_data"
    }
   ],
   "source": [
    "cf_matrix = confusion_matrix(y_test, predicted)\n",
    "sns.heatmap(cf_matrix, cmap=\"PuBu\", annot=True, fmt='.0f')\n",
    "plt.show()\n"
   ]
  }
 ],
 "metadata": {
  "colab": {
   "provenance": []
  },
  "kernelspec": {
   "display_name": "Python 3 (ipykernel)",
   "language": "python",
   "name": "python3"
  },
  "language_info": {
   "codemirror_mode": {
    "name": "ipython",
    "version": 3
   },
   "file_extension": ".py",
   "mimetype": "text/x-python",
   "name": "python",
   "nbconvert_exporter": "python",
   "pygments_lexer": "ipython3",
   "version": "3.9.13"
  }
 },
 "nbformat": 4,
 "nbformat_minor": 5
}
