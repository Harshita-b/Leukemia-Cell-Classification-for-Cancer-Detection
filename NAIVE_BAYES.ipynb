{
 "cells": [
  {
   "cell_type": "code",
   "execution_count": null,
   "id": "4DlZcqc4xY7t",
   "metadata": {
    "id": "4DlZcqc4xY7t"
   },
   "outputs": [],
   "source": [
    "import os\n",
    "import pandas as pd\n",
    "import numpy as np\n",
    "import seaborn as sns\n",
    "import matplotlib.pyplot as plt\n",
    "from sklearn.model_selection import cross_val_score,cross_val_predict\n",
    "from sklearn.ensemble import RandomForestClassifier\n",
    "from sklearn.naive_bayes import GaussianNB\n",
    "from sklearn.neighbors import KNeighborsClassifier\n",
    "from sklearn import svm\n",
    "from sklearn.metrics import confusion_matrix\n",
    "from sklearn.metrics import f1_score,precision_score,recall_score,accuracy_score\n",
    "from sklearn.model_selection import GridSearchCV\n",
    "from sklearn.model_selection import train_test_split\n",
    "from sklearn.naive_bayes import GaussianNB\n",
    "import \n"
   ]
  },
  {
   "cell_type": "markdown",
   "id": "16f1638f",
   "metadata": {},
   "source": [
    "## Implementing Naive Bayes Algorithm"
   ]
  },
  {
   "cell_type": "code",
   "execution_count": null,
   "id": "17d7e314",
   "metadata": {
    "id": "17d7e314"
   },
   "outputs": [],
   "source": [
    "if USE_LESS_DATA:\n",
    "    df_train = df_train[:5000]\n",
    "    df_val = df_val[:1000]"
   ]
  },
  {
   "cell_type": "code",
   "execution_count": null,
   "id": "2d744cc9",
   "metadata": {
    "id": "2d744cc9"
   },
   "outputs": [],
   "source": [
    "X_train = df_train['image_paths'].apply(read_and_crop_image).values\n",
    "X_val = df_val['image_paths'].apply(read_and_crop_image).values\n",
    "\n",
    "y_train = df_train['image_labels'].values\n",
    "y_val = df_val['image_labels'].values\n",
    "\n",
    "# https://stackoverflow.com/a/69873624\n",
    "X_train = np.stack(X_train, axis=0)\n",
    "X_val = np.stack(X_val, axis=0)\n",
    "\n",
    "# Expand dim to add channel info if image has 1 channel(Colorless)\n",
    "if not KEEP_COLOR:\n",
    "    X_train = np.expand_dims(X_train, axis=-1)\n",
    "    X_val = np.expand_dims(X_val, axis=-1)\n",
    "\n",
    "# Delete non used variables\n",
    "#del(df_train)\n",
    "#del(df_val)"
   ]
  },
  {
   "cell_type": "code",
   "execution_count": null,
   "id": "3fb9c658",
   "metadata": {
    "id": "3fb9c658"
   },
   "outputs": [],
   "source": [
    "X_train, X_test, y_train, y_test = train_test_split(X_train, y_train, test_size=0.1, random_state=MAIN_SEED)"
   ]
  },
  {
   "cell_type": "code",
   "execution_count": null,
   "id": "3e30a2f5",
   "metadata": {
    "id": "3e30a2f5",
    "outputId": "68254199-1362-4ad1-8ac1-15bee8d3a003"
   },
   "outputs": [
    {
     "name": "stdout",
     "output_type": "stream",
     "text": [
      "X_train -> (4500, 200, 200, 1) \n",
      "y_train -> (4500,) \n",
      "\n",
      "X_test -> (500, 200, 200, 1) \n",
      "y_test -> (500,) \n",
      "\n",
      "X_val -> (1000, 200, 200, 1) \n",
      "y_val -> (1000,)\n"
     ]
    }
   ],
   "source": [
    "print(\"X_train ->\",X_train.shape,\n",
    "      \"\\ny_train ->\",y_train.shape,\n",
    "      \"\\n\\nX_test ->\",X_test.shape,\n",
    "      \"\\ny_test ->\",y_test.shape,\n",
    "      \"\\n\\nX_val ->\",X_val.shape,\n",
    "      \"\\ny_val ->\",y_val.shape\n",
    ")"
   ]
  },
  {
   "cell_type": "code",
   "execution_count": null,
   "id": "d19c583a",
   "metadata": {
    "id": "d19c583a",
    "outputId": "d40bbd71-8fbb-4a7a-a080-1f280e73d00a"
   },
   "outputs": [
    {
     "name": "stdout",
     "output_type": "stream",
     "text": [
      "Accuracy: 0.560\n"
     ]
    }
   ],
   "source": [
    "# Reshape the input data to two dimensions\n",
    "X_train_2d = np.reshape(X_train, (X_train.shape[0], -1))\n",
    "X_test_2d = np.reshape(X_test, (X_test.shape[0], -1))\n",
    "\n",
    "# Create and fit the Gaussian Naive Bayes model\n",
    "nb_model = GaussianNB()\n",
    "nb_model.fit(X_train_2d, y_train)\n",
    "\n",
    "# Make predictions on the test data\n",
    "predicted = nb_model.predict(X_test_2d)\n",
    "\n",
    "# Calculate the accuracy score\n",
    "score = nb_model.score(X_test_2d, y_test)\n",
    "nb_score_ = np.mean(score)\n",
    "\n",
    "# Print the accuracy score\n",
    "print('Accuracy: %.3f' % nb_score_)\n"
   ]
  },
  {
   "cell_type": "code",
   "execution_count": null,
   "id": "a32123be",
   "metadata": {
    "id": "a32123be",
    "outputId": "8efe78c7-b8e8-4b66-e306-5e89ac4c2f3b"
   },
   "outputs": [
    {
     "name": "stdout",
     "output_type": "stream",
     "text": [
      "precision : 0.782\n",
      "recall : 0.473\n",
      "f1-score: 0.590\n",
      "weighted f1-score: 0.568\n"
     ]
    }
   ],
   "source": [
    "p=precision_score(y_test, predicted)\n",
    "print('precision : %.3f' % (p))\n",
    "\n",
    "r=recall_score(y_test, predicted)\n",
    "print('recall : %.3f' % (r))\n",
    "\n",
    "f1=f1_score(y_test, predicted)\n",
    "print('f1-score: %.3f' % (f1))\n",
    "\n",
    "f1_w=f1_score(y_test, predicted, average='weighted')\n",
    "print('weighted f1-score: %.3f' % (f1_w))"
   ]
  },
  {
   "cell_type": "code",
   "execution_count": null,
   "id": "7b2878a3",
   "metadata": {
    "id": "7b2878a3",
    "outputId": "2f931738-3306-482f-bf37-30cdb80e117c"
   },
   "outputs": [
    {
     "data": {
      "image/png": "[encoded data removed]",
      "text/plain": [
       "<Figure size 432x288 with 2 Axes>"
      ]
     },
     "metadata": {
      "needs_background": "light"
     },
     "output_type": "display_data"
    }
   ],
   "source": [
    "cf_matrix = confusion_matrix(y_test, predicted)\n",
    "sns.heatmap(cf_matrix, cmap=\"PuBu\", annot=True, fmt='.0f')\n",
    "plt.show()"
   ]
  }
 ],
 "metadata": {
  "colab": {
   "provenance": []
  },
  "kernelspec": {
   "display_name": "Python 3 (ipykernel)",
   "language": "python",
   "name": "python3"
  },
  "language_info": {
   "codemirror_mode": {
    "name": "ipython",
    "version": 3
   },
   "file_extension": ".py",
   "mimetype": "text/x-python",
   "name": "python",
   "nbconvert_exporter": "python",
   "pygments_lexer": "ipython3",
   "version": "3.9.13"
  }
 },
 "nbformat": 4,
 "nbformat_minor": 5
}
